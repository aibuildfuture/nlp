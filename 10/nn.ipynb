{
 "cells": [
  {
   "cell_type": "code",
   "execution_count": 1,
   "metadata": {},
   "outputs": [],
   "source": [
    "class Node:\n",
    "    def __init__(self, inputs=[],name = ''):\n",
    "        self.inputs = inputs\n",
    "        self.value = None\n",
    "        self.outputs = []\n",
    "        self.gradients = {}\n",
    "        self.name = name\n",
    "        \n",
    "        for node in self.inputs:#对当前节点的input节点，把它们的output设置成当前节点，建立连接关系\n",
    "            node.outputs.append(self)\n",
    "            \n",
    "    def forward(self):\n",
    "        raise NotImplemented\n",
    "        \n",
    "    def backward(self):\n",
    "        raise NotImplemented\n",
    "        \n",
    "    def __repr__(self):\n",
    "        return 'Node:{}'.format(self.name)\n",
    "        \n",
    "    "
   ]
  },
  {
   "cell_type": "code",
   "execution_count": 2,
   "metadata": {},
   "outputs": [],
   "source": [
    "class Input(Node):\n",
    "    def __init__(self, name = ''):\n",
    "        Node.__init__(self,inputs = [])\n",
    "        self.name = name\n",
    "        \n",
    "    def forward(self, value = None):\n",
    "        if value is not None:\n",
    "            self.value = value\n",
    "            \n",
    "    def backward(self):\n",
    "        self.gradients = {}\n",
    "        \n",
    "        for n in self.outputs:\n",
    "            grad_cost = n.gradients[self]\n",
    "            self.gradients[self] = grad_cost\n",
    "    \n",
    "    def __repr__(self):\n",
    "        return 'Input Node:{}'.format(self.name)\n",
    "    "
   ]
  },
  {
   "cell_type": "code",
   "execution_count": 3,
   "metadata": {},
   "outputs": [],
   "source": [
    "class Linear(Node):\n",
    "    def __init__(self, nodes, weights, bias,name = ''):\n",
    "        self.w_node = weights\n",
    "        self.x_node = nodes\n",
    "        self.b_node = bias\n",
    "        Node.__init__(self, inputs = [nodes, weights, bias],name=name)\n",
    "        \n",
    "    def forward(self):\n",
    "        self.value = np.dot(self.x_node.value, self.w_node.value) + self.b_node.value\n",
    "\n",
    "    def backward(self):\n",
    "        for node in self.outputs:\n",
    "            grad_cost = node.gradients[self]\n",
    "            self.gradients[self.w_node] = np.dot(self.x_node.value.T, grad_cost)\n",
    "            self.gradients[self.b_node] = np.sum(grad_cost * 1, axis = 0, keepdims = False)\n",
    "            self.gradients[self.x_node] = np.dot(grad_cost, self.w_node.value.T)"
   ]
  },
  {
   "cell_type": "code",
   "execution_count": 4,
   "metadata": {},
   "outputs": [],
   "source": [
    "class Sigmoid(Node):\n",
    "    def __init__(self, node):\n",
    "        Node.__init__(self,[node])\n",
    "        self.x_node = node\n",
    "        \n",
    "    def _sigmoid(self, x):\n",
    "        return 1. / (1 + np.exp(-1 * x))\n",
    "    \n",
    "    def forward(self):\n",
    "        self.value = self._sigmoid(self.x_node.value)\n",
    "        \n",
    "    def backward(self):\n",
    "        y = self.value\n",
    "        \n",
    "        self.partial = y * (1 - y)\n",
    "        \n",
    "        for n in self.outputs:\n",
    "            grad_cost = n.gradients[self]\n",
    "            self.gradients[self.x_node] = grad_cost * self.partial"
   ]
  },
  {
   "cell_type": "code",
   "execution_count": 5,
   "metadata": {},
   "outputs": [],
   "source": [
    "class MSE(Node):\n",
    "    def __init__(self, y_true, y_hat):\n",
    "        self.y_true_node = y_true\n",
    "        self.y_hat_node = y_hat\n",
    "        Node.__init__(self,inputs=[y_true, y_hat])\n",
    "        \n",
    "    def forward(self):\n",
    "        y_true_flatten = self.y_true_node.value.reshape(-1, 1)\n",
    "        y_hat_flatten = self.y_hat_node.value.reshape(-1, 1)\n",
    "        self.diff = y_true_flatten - y_hat_flatten\n",
    "        self.value = np.mean(self.diff**2)\n",
    "        \n",
    "    def backward(self):\n",
    "        n = self.y_hat_node.value.shape[0]\n",
    "        self.gradients[self.y_true_node] = (2 / n) * self.diff\n",
    "        self.gradients[self.y_hat_node] = (-2 / n) * self.diff \n",
    "                 "
   ]
  },
  {
   "cell_type": "code",
   "execution_count": 6,
   "metadata": {},
   "outputs": [],
   "source": [
    "def training_one_batch(topological_sorted_graph):\n",
    "    for node in topological_sorted_graph:\n",
    "        node.forward()\n",
    "        \n",
    "    for node in topological_sorted_graph[::-1]:\n",
    "        #print(node)\n",
    "        node.backward()"
   ]
  },
  {
   "cell_type": "code",
   "execution_count": 7,
   "metadata": {},
   "outputs": [],
   "source": [
    "def topological_sort(data_with_value):\n",
    "    feed_dict = data_with_value\n",
    "    input_nodes = [n for n in feed_dict.keys()]\n",
    "    \n",
    "    G = {}\n",
    "    nodes = [n for n in input_nodes]\n",
    "    while len(nodes) > 0:\n",
    "        print('enter while:')\n",
    "        print(nodes)\n",
    "        n = nodes.pop(0)\n",
    "        print(nodes)\n",
    "        if n not in G:\n",
    "            G[n] = {'in':set(),'out': set()}\n",
    "        for m in n.outputs:\n",
    "            print(m)\n",
    "            if m not in G:\n",
    "                G[m] = {'in':set(),'out':set()}\n",
    "            G[n]['out'].add(m)\n",
    "            G[m]['in'].add(n)\n",
    "            nodes.append(m)\n",
    "            \n",
    "    L = []\n",
    "    S = set(input_nodes)\n",
    "    while len(S) > 0:\n",
    "        n = S.pop()\n",
    "        \n",
    "        if isinstance(n, Input):\n",
    "            n.value = feed_dict[n]\n",
    "        L.append(n)\n",
    "        for m in n.outputs:\n",
    "            G[n]['out'].remove(m)\n",
    "            G[m]['in'].remove(n)\n",
    "            if len(G[m]['in']) == 0:\n",
    "                S.add(m)\n",
    "    return L"
   ]
  },
  {
   "cell_type": "code",
   "execution_count": 8,
   "metadata": {},
   "outputs": [],
   "source": [
    "def sgd_update(trainable_nodes, learning_rate = 1e-2):\n",
    "    for t in trainable_nodes:\n",
    "        t.value += -1 * learning_rate * t.gradients[t]"
   ]
  },
  {
   "cell_type": "code",
   "execution_count": 9,
   "metadata": {},
   "outputs": [],
   "source": [
    "from sklearn.datasets import load_boston"
   ]
  },
  {
   "cell_type": "code",
   "execution_count": 10,
   "metadata": {},
   "outputs": [],
   "source": [
    "data = load_boston()"
   ]
  },
  {
   "cell_type": "code",
   "execution_count": 11,
   "metadata": {},
   "outputs": [],
   "source": [
    "X_ = data['data']"
   ]
  },
  {
   "cell_type": "code",
   "execution_count": 12,
   "metadata": {},
   "outputs": [],
   "source": [
    "y_ = data['target']"
   ]
  },
  {
   "cell_type": "code",
   "execution_count": 13,
   "metadata": {},
   "outputs": [
    {
     "data": {
      "text/plain": [
       "array([6.320e-03, 1.800e+01, 2.310e+00, 0.000e+00, 5.380e-01, 6.575e+00,\n",
       "       6.520e+01, 4.090e+00, 1.000e+00, 2.960e+02, 1.530e+01, 3.969e+02,\n",
       "       4.980e+00])"
      ]
     },
     "execution_count": 13,
     "metadata": {},
     "output_type": "execute_result"
    }
   ],
   "source": [
    "X_[0]"
   ]
  },
  {
   "cell_type": "code",
   "execution_count": 14,
   "metadata": {},
   "outputs": [
    {
     "data": {
      "text/plain": [
       "24.0"
      ]
     },
     "execution_count": 14,
     "metadata": {},
     "output_type": "execute_result"
    }
   ],
   "source": [
    "y_[0]"
   ]
  },
  {
   "cell_type": "code",
   "execution_count": 15,
   "metadata": {},
   "outputs": [],
   "source": [
    "import numpy as np\n",
    "X_ = (X_ - np.mean(X_, axis=0)) / np.std(X_, axis = 0)"
   ]
  },
  {
   "cell_type": "code",
   "execution_count": 16,
   "metadata": {},
   "outputs": [],
   "source": [
    "n_features = X_.shape[1]"
   ]
  },
  {
   "cell_type": "code",
   "execution_count": 17,
   "metadata": {},
   "outputs": [],
   "source": [
    "n_hidden = 10"
   ]
  },
  {
   "cell_type": "code",
   "execution_count": 18,
   "metadata": {},
   "outputs": [],
   "source": [
    "W1_,b1_ = np.random.randn(n_features, n_hidden),np.zeros(n_hidden)"
   ]
  },
  {
   "cell_type": "code",
   "execution_count": 19,
   "metadata": {},
   "outputs": [],
   "source": [
    "W2_,b2_ = np.random.randn(n_hidden,1),np.zeros(1)"
   ]
  },
  {
   "cell_type": "code",
   "execution_count": 20,
   "metadata": {},
   "outputs": [],
   "source": [
    "X,y = Input(name='X'),Input(name='y')\n",
    "W1, b1 = Input(name = 'W1'),Input(name = 'b1')\n",
    "W2, b2 = Input(name = 'W2'),Input(name = 'b2')"
   ]
  },
  {
   "cell_type": "code",
   "execution_count": 21,
   "metadata": {},
   "outputs": [],
   "source": [
    "linear_output = Linear(X, W1 ,b1,name='liner_ounput')\n",
    "sigmoid_output = Sigmoid(linear_output)\n",
    "yhat = Linear(sigmoid_output, W2, b2,name= 'yhat')\n",
    "loss = MSE(y, yhat)"
   ]
  },
  {
   "cell_type": "code",
   "execution_count": 22,
   "metadata": {},
   "outputs": [],
   "source": [
    "input_node_with_value = {\n",
    "    X: X_,\n",
    "    y: y_,\n",
    "    W1: W1_,\n",
    "    W2: W2_,\n",
    "    b1: b1_,\n",
    "    b2: b2_\n",
    "}"
   ]
  },
  {
   "cell_type": "code",
   "execution_count": 23,
   "metadata": {},
   "outputs": [
    {
     "name": "stdout",
     "output_type": "stream",
     "text": [
      "enter while:\n",
      "[Input Node:X, Input Node:y, Input Node:W1, Input Node:W2, Input Node:b1, Input Node:b2]\n",
      "[Input Node:y, Input Node:W1, Input Node:W2, Input Node:b1, Input Node:b2]\n",
      "Node:liner_ounput\n",
      "enter while:\n",
      "[Input Node:y, Input Node:W1, Input Node:W2, Input Node:b1, Input Node:b2, Node:liner_ounput]\n",
      "[Input Node:W1, Input Node:W2, Input Node:b1, Input Node:b2, Node:liner_ounput]\n",
      "Node:\n",
      "enter while:\n",
      "[Input Node:W1, Input Node:W2, Input Node:b1, Input Node:b2, Node:liner_ounput, Node:]\n",
      "[Input Node:W2, Input Node:b1, Input Node:b2, Node:liner_ounput, Node:]\n",
      "Node:liner_ounput\n",
      "enter while:\n",
      "[Input Node:W2, Input Node:b1, Input Node:b2, Node:liner_ounput, Node:, Node:liner_ounput]\n",
      "[Input Node:b1, Input Node:b2, Node:liner_ounput, Node:, Node:liner_ounput]\n",
      "Node:yhat\n",
      "enter while:\n",
      "[Input Node:b1, Input Node:b2, Node:liner_ounput, Node:, Node:liner_ounput, Node:yhat]\n",
      "[Input Node:b2, Node:liner_ounput, Node:, Node:liner_ounput, Node:yhat]\n",
      "Node:liner_ounput\n",
      "enter while:\n",
      "[Input Node:b2, Node:liner_ounput, Node:, Node:liner_ounput, Node:yhat, Node:liner_ounput]\n",
      "[Node:liner_ounput, Node:, Node:liner_ounput, Node:yhat, Node:liner_ounput]\n",
      "Node:yhat\n",
      "enter while:\n",
      "[Node:liner_ounput, Node:, Node:liner_ounput, Node:yhat, Node:liner_ounput, Node:yhat]\n",
      "[Node:, Node:liner_ounput, Node:yhat, Node:liner_ounput, Node:yhat]\n",
      "Node:\n",
      "enter while:\n",
      "[Node:, Node:liner_ounput, Node:yhat, Node:liner_ounput, Node:yhat, Node:]\n",
      "[Node:liner_ounput, Node:yhat, Node:liner_ounput, Node:yhat, Node:]\n",
      "enter while:\n",
      "[Node:liner_ounput, Node:yhat, Node:liner_ounput, Node:yhat, Node:]\n",
      "[Node:yhat, Node:liner_ounput, Node:yhat, Node:]\n",
      "Node:\n",
      "enter while:\n",
      "[Node:yhat, Node:liner_ounput, Node:yhat, Node:, Node:]\n",
      "[Node:liner_ounput, Node:yhat, Node:, Node:]\n",
      "Node:\n",
      "enter while:\n",
      "[Node:liner_ounput, Node:yhat, Node:, Node:, Node:]\n",
      "[Node:yhat, Node:, Node:, Node:]\n",
      "Node:\n",
      "enter while:\n",
      "[Node:yhat, Node:, Node:, Node:, Node:]\n",
      "[Node:, Node:, Node:, Node:]\n",
      "Node:\n",
      "enter while:\n",
      "[Node:, Node:, Node:, Node:, Node:]\n",
      "[Node:, Node:, Node:, Node:]\n",
      "Node:yhat\n",
      "enter while:\n",
      "[Node:, Node:, Node:, Node:, Node:yhat]\n",
      "[Node:, Node:, Node:, Node:yhat]\n",
      "Node:yhat\n",
      "enter while:\n",
      "[Node:, Node:, Node:, Node:yhat, Node:yhat]\n",
      "[Node:, Node:, Node:yhat, Node:yhat]\n",
      "enter while:\n",
      "[Node:, Node:, Node:yhat, Node:yhat]\n",
      "[Node:, Node:yhat, Node:yhat]\n",
      "Node:yhat\n",
      "enter while:\n",
      "[Node:, Node:yhat, Node:yhat, Node:yhat]\n",
      "[Node:yhat, Node:yhat, Node:yhat]\n",
      "enter while:\n",
      "[Node:yhat, Node:yhat, Node:yhat]\n",
      "[Node:yhat, Node:yhat]\n",
      "Node:\n",
      "enter while:\n",
      "[Node:yhat, Node:yhat, Node:]\n",
      "[Node:yhat, Node:]\n",
      "Node:\n",
      "enter while:\n",
      "[Node:yhat, Node:, Node:]\n",
      "[Node:, Node:]\n",
      "Node:\n",
      "enter while:\n",
      "[Node:, Node:, Node:]\n",
      "[Node:, Node:]\n",
      "enter while:\n",
      "[Node:, Node:]\n",
      "[Node:]\n",
      "enter while:\n",
      "[Node:]\n",
      "[]\n"
     ]
    }
   ],
   "source": [
    "graph = topological_sort(input_node_with_value)"
   ]
  },
  {
   "cell_type": "code",
   "execution_count": 24,
   "metadata": {},
   "outputs": [
    {
     "data": {
      "text/plain": [
       "[Input Node:b1,\n",
       " Input Node:b2,\n",
       " Input Node:W1,\n",
       " Input Node:X,\n",
       " Input Node:y,\n",
       " Input Node:W2,\n",
       " Node:liner_ounput,\n",
       " Node:,\n",
       " Node:yhat,\n",
       " Node:]"
      ]
     },
     "execution_count": 24,
     "metadata": {},
     "output_type": "execute_result"
    }
   ],
   "source": [
    "graph"
   ]
  },
  {
   "cell_type": "code",
   "execution_count": 25,
   "metadata": {},
   "outputs": [],
   "source": [
    "from sklearn.utils import resample\n"
   ]
  },
  {
   "cell_type": "code",
   "execution_count": 26,
   "metadata": {},
   "outputs": [],
   "source": [
    "def run(dictionary):\n",
    "    return topological_sort(dictionary)"
   ]
  },
  {
   "cell_type": "code",
   "execution_count": 27,
   "metadata": {},
   "outputs": [
    {
     "name": "stdout",
     "output_type": "stream",
     "text": [
      "Epoch:1, loss = 378.066\n",
      "Epoch:101, loss = 34.209\n",
      "Epoch:201, loss = 23.899\n",
      "Epoch:301, loss = 21.003\n",
      "Epoch:401, loss = 22.233\n",
      "Epoch:501, loss = 14.706\n",
      "Epoch:601, loss = 21.182\n",
      "Epoch:701, loss = 14.006\n",
      "Epoch:801, loss = 14.013\n",
      "Epoch:901, loss = 15.395\n",
      "Epoch:1001, loss = 13.267\n",
      "Epoch:1101, loss = 11.777\n",
      "Epoch:1201, loss = 11.144\n",
      "Epoch:1301, loss = 11.930\n",
      "Epoch:1401, loss = 11.978\n",
      "Epoch:1501, loss = 8.312\n",
      "Epoch:1601, loss = 9.216\n",
      "Epoch:1701, loss = 10.355\n",
      "Epoch:1801, loss = 11.013\n",
      "Epoch:1901, loss = 10.716\n",
      "Epoch:2001, loss = 8.395\n",
      "Epoch:2101, loss = 8.017\n",
      "Epoch:2201, loss = 8.809\n",
      "Epoch:2301, loss = 7.424\n",
      "Epoch:2401, loss = 12.757\n",
      "Epoch:2501, loss = 8.696\n",
      "Epoch:2601, loss = 9.046\n",
      "Epoch:2701, loss = 8.916\n",
      "Epoch:2801, loss = 7.352\n",
      "Epoch:2901, loss = 9.329\n",
      "Epoch:3001, loss = 8.630\n",
      "Epoch:3101, loss = 7.597\n",
      "Epoch:3201, loss = 5.585\n",
      "Epoch:3301, loss = 8.009\n",
      "Epoch:3401, loss = 6.809\n",
      "Epoch:3501, loss = 6.518\n",
      "Epoch:3601, loss = 7.647\n",
      "Epoch:3701, loss = 7.235\n",
      "Epoch:3801, loss = 8.018\n",
      "Epoch:3901, loss = 7.653\n",
      "Epoch:4001, loss = 6.824\n",
      "Epoch:4101, loss = 6.981\n",
      "Epoch:4201, loss = 8.612\n",
      "Epoch:4301, loss = 8.325\n",
      "Epoch:4401, loss = 6.567\n",
      "Epoch:4501, loss = 6.301\n",
      "Epoch:4601, loss = 5.945\n",
      "Epoch:4701, loss = 5.847\n",
      "Epoch:4801, loss = 6.524\n",
      "Epoch:4901, loss = 7.598\n"
     ]
    }
   ],
   "source": [
    "losses = []\n",
    "epochs = 5000\n",
    "\n",
    "batch_size = 64\n",
    "\n",
    "steps_per_epoch = X_.shape[0] // batch_size\n",
    "\n",
    "for i in range(epochs):\n",
    "    loss = 0\n",
    "    for batch in range(steps_per_epoch):\n",
    "        X_batch, y_batch = resample(X_, y_, n_samples = batch_size)\n",
    "        X.value = X_batch\n",
    "        y.value = y_batch\n",
    "        training_one_batch(graph)\n",
    "        learning_rate = 1e-3\n",
    "        sgd_update(trainable_nodes=[W1,W2,b1,b2],learning_rate = learning_rate)\n",
    "        loss += graph[-1].value\n",
    "    if i % 100 == 0:\n",
    "        print('Epoch:{}, loss = {:.3f}'.format(i+1, loss/steps_per_epoch))\n",
    "        losses.append(loss)"
   ]
  },
  {
   "cell_type": "code",
   "execution_count": 28,
   "metadata": {},
   "outputs": [],
   "source": [
    "import matplotlib.pyplot as plt"
   ]
  },
  {
   "cell_type": "code",
   "execution_count": 29,
   "metadata": {},
   "outputs": [
    {
     "data": {
      "text/plain": [
       "[<matplotlib.lines.Line2D at 0x7f1d6b534cf8>]"
      ]
     },
     "execution_count": 29,
     "metadata": {},
     "output_type": "execute_result"
    },
    {
     "data": {
      "image/png": "[encoded data removed]",
      "text/plain": [
       "<Figure size 432x288 with 1 Axes>"
      ]
     },
     "metadata": {},
     "output_type": "display_data"
    }
   ],
   "source": [
    "plt.plot(losses)"
   ]
  },
  {
   "cell_type": "code",
   "execution_count": 30,
   "metadata": {},
   "outputs": [],
   "source": [
    "def _sigmoid(x):\n",
    "    return 1. / (1 + np.exp(-1 * x))"
   ]
  },
  {
   "cell_type": "code",
   "execution_count": 31,
   "metadata": {},
   "outputs": [
    {
     "data": {
      "text/plain": [
       "array([24.13320866])"
      ]
     },
     "execution_count": 31,
     "metadata": {},
     "output_type": "execute_result"
    }
   ],
   "source": [
    "np.dot(_sigmoid(np.dot(X_[1], W1.value) + b1.value), W2.value) + b2.value"
   ]
  },
  {
   "cell_type": "code",
   "execution_count": 32,
   "metadata": {},
   "outputs": [
    {
     "data": {
      "text/plain": [
       "21.6"
      ]
     },
     "execution_count": 32,
     "metadata": {},
     "output_type": "execute_result"
    }
   ],
   "source": [
    "y_[1]"
   ]
  },
  {
   "cell_type": "code",
   "execution_count": null,
   "metadata": {},
   "outputs": [],
   "source": []
  }
 ],
 "metadata": {
  "kernelspec": {
   "display_name": "Python 3",
   "language": "python",
   "name": "python3"
  },
  "language_info": {
   "codemirror_mode": {
    "name": "ipython",
    "version": 3
   },
   "file_extension": ".py",
   "mimetype": "text/x-python",
   "name": "python",
   "nbconvert_exporter": "python",
   "pygments_lexer": "ipython3",
   "version": "3.6.5"
  }
 },
 "nbformat": 4,
 "nbformat_minor": 2
}
