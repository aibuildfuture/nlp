{
 "cells": [
  {
   "cell_type": "markdown",
   "metadata": {},
   "source": [
    "# <center>机器学习基础问题</center>"
   ]
  },
  {
   "cell_type": "markdown",
   "metadata": {},
   "source": [
    "### 1. Summarize the reasons of overfitting and underfitting. Put them in github repository. "
   ]
  },
  {
   "cell_type": "markdown",
   "metadata": {},
   "source": [
    "#### Underfitting\n",
    "1. 模型复杂度过低\n",
    "2. 特征量过少\n",
    "3. 训练迭代次数不足\n",
    "\n",
    "#### Overfitting\n",
    "1. 模型太过复杂\n",
    "2. 训练集和测试集特征分布不一致\n",
    "3. 数据噪声太大\n",
    "4. 数据量太小\n"
   ]
  },
  {
   "cell_type": "markdown",
   "metadata": {},
   "source": [
    "### 2. install the numpy, scikit-learning, keras, tensorflow "
   ]
  },
  {
   "cell_type": "markdown",
   "metadata": {},
   "source": [
    "#### 已安装"
   ]
  },
  {
   "cell_type": "markdown",
   "metadata": {},
   "source": [
    "### 3. Writing down three sceneries that machine learning has been used now."
   ]
  },
  {
   "cell_type": "markdown",
   "metadata": {},
   "source": [
    "1. 垃圾邮件识别\n",
    "2. 豆瓣推荐，电商商品推荐，头条文章推荐\n",
    "3. 人脸识别，美颜相机"
   ]
  },
  {
   "cell_type": "markdown",
   "metadata": {},
   "source": [
    "### 4. Come out with three new sceneries with which machine learning may be applied."
   ]
  },
  {
   "cell_type": "markdown",
   "metadata": {},
   "source": [
    "运维监控。分析服务器日志数据，识别异常状况。比如恶意攻击/硬件性能衰减。基于日志定位问题原因。这些已经有很多相关研究和比较成熟的工具，并不算是新的场景，但是，应用的还不够普及，不是完全成熟，仍然有相当大的空间。其他各个领域应该也是类似，可能都已经有了一定程度的研究和应用，但大部分领域都还有长足的空间。"
   ]
  },
  {
   "cell_type": "code",
   "execution_count": null,
   "metadata": {},
   "outputs": [],
   "source": []
  }
 ],
 "metadata": {
  "kernelspec": {
   "display_name": "Python 3",
   "language": "python",
   "name": "python3"
  },
  "language_info": {
   "codemirror_mode": {
    "name": "ipython",
    "version": 3
   },
   "file_extension": ".py",
   "mimetype": "text/x-python",
   "name": "python",
   "nbconvert_exporter": "python",
   "pygments_lexer": "ipython3",
   "version": "3.6.5"
  }
 },
 "nbformat": 4,
 "nbformat_minor": 2
}
